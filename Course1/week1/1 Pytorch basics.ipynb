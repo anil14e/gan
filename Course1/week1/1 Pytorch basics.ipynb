{
 "cells": [
  {
   "cell_type": "markdown",
   "id": "80150a15-ad86-4f80-84a6-3eac75770793",
   "metadata": {},
   "source": [
    "## Intro to Pytorch"
   ]
  },
  {
   "cell_type": "code",
   "execution_count": 4,
   "id": "6837361d-503c-4f4b-ac59-8c2b23ee5c25",
   "metadata": {
    "tags": []
   },
   "outputs": [],
   "source": [
    "import torch"
   ]
  },
  {
   "cell_type": "code",
   "execution_count": 2,
   "id": "4368d307-cbf9-4282-8d31-4fcc61f886c7",
   "metadata": {
    "tags": []
   },
   "outputs": [],
   "source": [
    "example_tensor = torch.Tensor(\n",
    "    [\n",
    "     [[1, 2], [3, 4]], \n",
    "     [[5, 6], [7, 8]], \n",
    "     [[9, 0], [1, 2]]\n",
    "    ]\n",
    ")"
   ]
  },
  {
   "cell_type": "markdown",
   "id": "779c6b9b-62a4-42cf-a134-0d1bd41ec615",
   "metadata": {
    "tags": []
   },
   "source": [
    "#### .device gives which device the current exeuction is on. To move a tensor to a new device, you can write new_tensor = example_tensor.to(device) where device will be either cpu or cuda"
   ]
  },
  {
   "cell_type": "code",
   "execution_count": 5,
   "id": "6f074de7-c013-432a-adf4-72151ee48d5b",
   "metadata": {
    "tags": []
   },
   "outputs": [
    {
     "data": {
      "text/plain": [
       "device(type='cpu')"
      ]
     },
     "execution_count": 5,
     "metadata": {},
     "output_type": "execute_result"
    }
   ],
   "source": [
    "example_tensor.device"
   ]
  },
  {
   "cell_type": "code",
   "execution_count": 6,
   "id": "7f5f95e4-f03b-4607-87c6-1ad18896920e",
   "metadata": {
    "tags": []
   },
   "outputs": [
    {
     "data": {
      "text/plain": [
       "torch.Size([3, 2, 2])"
      ]
     },
     "execution_count": 6,
     "metadata": {},
     "output_type": "execute_result"
    }
   ],
   "source": [
    "example_tensor.shape"
   ]
  },
  {
   "cell_type": "markdown",
   "id": "1f9ab198-66d6-4788-b784-ff3677308ce2",
   "metadata": {},
   "source": [
    "##### You can also get the size of a particular dimension n using example_tensor.shape[n] or equivalently example_tensor.size(n)"
   ]
  },
  {
   "cell_type": "code",
   "execution_count": 9,
   "id": "c2ec01f6-0377-4a1e-95a2-9887d9a6f246",
   "metadata": {
    "tags": []
   },
   "outputs": [
    {
     "name": "stdout",
     "output_type": "stream",
     "text": [
      "shape[0] = 3\n",
      "size(1) = 2\n"
     ]
    }
   ],
   "source": [
    "print(\"shape[0] =\", example_tensor.shape[0])\n",
    "print(\"size(1) =\", example_tensor.size(1))"
   ]
  },
  {
   "cell_type": "code",
   "execution_count": 10,
   "id": "dd5f1cf0-1113-47b6-b74f-5b6e7239c044",
   "metadata": {
    "tags": []
   },
   "outputs": [
    {
     "name": "stdout",
     "output_type": "stream",
     "text": [
      "Rank = 3\n",
      "Number of elements = 12\n"
     ]
    }
   ],
   "source": [
    "print(\"Rank =\", len(example_tensor.shape))\n",
    "print(\"Number of elements =\", example_tensor.numel())"
   ]
  },
  {
   "cell_type": "markdown",
   "id": "48ecad37-a27a-4ab0-919c-4d319d9798fd",
   "metadata": {},
   "source": [
    "### Indexing Tensors"
   ]
  },
  {
   "cell_type": "code",
   "execution_count": 11,
   "id": "714b0565-eb8f-4d6e-bb97-e5d4641c300a",
   "metadata": {
    "tags": []
   },
   "outputs": [
    {
     "data": {
      "text/plain": [
       "tensor([[5., 6.],\n",
       "        [7., 8.]])"
      ]
     },
     "execution_count": 11,
     "metadata": {},
     "output_type": "execute_result"
    }
   ],
   "source": [
    "example_tensor[1]"
   ]
  },
  {
   "cell_type": "code",
   "execution_count": 13,
   "id": "8778bfb5-2d9f-4a89-bb1c-c61b87d1975e",
   "metadata": {
    "tags": []
   },
   "outputs": [
    {
     "data": {
      "text/plain": [
       "tensor(7.)"
      ]
     },
     "execution_count": 13,
     "metadata": {},
     "output_type": "execute_result"
    }
   ],
   "source": [
    "example_tensor[1, 1, 0]"
   ]
  },
  {
   "cell_type": "markdown",
   "id": "90e36f15-ef7e-4aca-b062-4697a05b7322",
   "metadata": {
    "tags": []
   },
   "source": [
    "#### item() can be used to get scalar output. It cant give array output"
   ]
  },
  {
   "cell_type": "code",
   "execution_count": 16,
   "id": "974137c4-c5d8-4e83-b1b9-7eef6f30f5a4",
   "metadata": {
    "tags": []
   },
   "outputs": [
    {
     "ename": "ValueError",
     "evalue": "only one element tensors can be converted to Python scalars",
     "output_type": "error",
     "traceback": [
      "\u001b[0;31m---------------------------------------------------------------------------\u001b[0m",
      "\u001b[0;31mValueError\u001b[0m                                Traceback (most recent call last)",
      "\u001b[0;32m/tmp/ipykernel_569/1304916435.py\u001b[0m in \u001b[0;36m<module>\u001b[0;34m\u001b[0m\n\u001b[0;32m----> 1\u001b[0;31m \u001b[0mexample_tensor\u001b[0m\u001b[0;34m[\u001b[0m\u001b[0;36m1\u001b[0m\u001b[0;34m]\u001b[0m\u001b[0;34m.\u001b[0m\u001b[0mitem\u001b[0m\u001b[0;34m(\u001b[0m\u001b[0;34m)\u001b[0m\u001b[0;34m\u001b[0m\u001b[0;34m\u001b[0m\u001b[0m\n\u001b[0m",
      "\u001b[0;31mValueError\u001b[0m: only one element tensors can be converted to Python scalars"
     ]
    }
   ],
   "source": [
    "example_tensor[1].item()"
   ]
  },
  {
   "cell_type": "code",
   "execution_count": 17,
   "id": "9e6aff51-9282-4de9-a236-7629c866dd09",
   "metadata": {
    "tags": []
   },
   "outputs": [
    {
     "data": {
      "text/plain": [
       "7.0"
      ]
     },
     "execution_count": 17,
     "metadata": {},
     "output_type": "execute_result"
    }
   ],
   "source": [
    "example_tensor[1, 1, 0].item()"
   ]
  },
  {
   "cell_type": "code",
   "execution_count": 18,
   "id": "27c4bb32-4dc7-45cf-9b1d-4acb31611f80",
   "metadata": {
    "tags": []
   },
   "outputs": [
    {
     "data": {
      "text/plain": [
       "tensor([1., 5., 9.])"
      ]
     },
     "execution_count": 18,
     "metadata": {},
     "output_type": "execute_result"
    }
   ],
   "source": [
    "example_tensor[:, 0, 0]"
   ]
  },
  {
   "cell_type": "markdown",
   "id": "663d2fd4-38af-4302-be73-6b1cf7e84597",
   "metadata": {},
   "source": [
    "### Initializing Tensors"
   ]
  },
  {
   "cell_type": "code",
   "execution_count": 19,
   "id": "9d69b269-9c77-4763-82d0-bbec5acdc1be",
   "metadata": {
    "tags": []
   },
   "outputs": [
    {
     "data": {
      "text/plain": [
       "tensor([[[1., 1.],\n",
       "         [1., 1.]],\n",
       "\n",
       "        [[1., 1.],\n",
       "         [1., 1.]],\n",
       "\n",
       "        [[1., 1.],\n",
       "         [1., 1.]]])"
      ]
     },
     "execution_count": 19,
     "metadata": {},
     "output_type": "execute_result"
    }
   ],
   "source": [
    "torch.ones_like(example_tensor)"
   ]
  },
  {
   "cell_type": "code",
   "execution_count": 20,
   "id": "0ff81aea-a2b2-440e-a396-e312759e5452",
   "metadata": {
    "tags": []
   },
   "outputs": [
    {
     "data": {
      "text/plain": [
       "tensor([[[0., 0.],\n",
       "         [0., 0.]],\n",
       "\n",
       "        [[0., 0.],\n",
       "         [0., 0.]],\n",
       "\n",
       "        [[0., 0.],\n",
       "         [0., 0.]]])"
      ]
     },
     "execution_count": 20,
     "metadata": {},
     "output_type": "execute_result"
    }
   ],
   "source": [
    "torch.zeros_like(example_tensor)"
   ]
  },
  {
   "cell_type": "code",
   "execution_count": 22,
   "id": "357c4f22-cb36-4b24-b313-9f625341ba18",
   "metadata": {
    "tags": []
   },
   "outputs": [
    {
     "data": {
      "text/plain": [
       "tensor([[1., 1.]])"
      ]
     },
     "execution_count": 22,
     "metadata": {},
     "output_type": "execute_result"
    }
   ],
   "source": [
    "torch.ones([1,2])"
   ]
  },
  {
   "cell_type": "code",
   "execution_count": 23,
   "id": "d7e7a717-109d-4cc8-b08c-a785819bcde2",
   "metadata": {
    "tags": []
   },
   "outputs": [
    {
     "data": {
      "text/plain": [
       "tensor([[[0.5455, 0.3661, 0.7834],\n",
       "         [0.3422, 0.7406, 0.4084]]])"
      ]
     },
     "execution_count": 23,
     "metadata": {},
     "output_type": "execute_result"
    }
   ],
   "source": [
    "torch.rand([1,2,3])"
   ]
  },
  {
   "cell_type": "code",
   "execution_count": 24,
   "id": "7cc3a578-732f-4e14-a850-5d3d72abb3c1",
   "metadata": {
    "tags": []
   },
   "outputs": [
    {
     "data": {
      "text/plain": [
       "tensor([[[-1.5426,  0.9418],\n",
       "         [-0.1294, -1.2423]],\n",
       "\n",
       "        [[-1.5872,  0.6830],\n",
       "         [-2.3797, -1.0744]],\n",
       "\n",
       "        [[-0.5091, -1.5454],\n",
       "         [-1.2645,  0.5356]]])"
      ]
     },
     "execution_count": 24,
     "metadata": {},
     "output_type": "execute_result"
    }
   ],
   "source": [
    "torch.randn_like(example_tensor)"
   ]
  },
  {
   "cell_type": "markdown",
   "id": "a3170a58-ce0f-4f83-92ca-a1800f1f03ee",
   "metadata": {
    "tags": []
   },
   "source": [
    "#### assigning device to a tensor. 'cpu' and 'cuda'"
   ]
  },
  {
   "cell_type": "code",
   "execution_count": 25,
   "id": "ee2befb5-736c-4c86-9cb9-0c4511b8b4a7",
   "metadata": {
    "tags": []
   },
   "outputs": [
    {
     "data": {
      "text/plain": [
       "tensor([[ 0.8111, -0.0975],\n",
       "        [ 0.6630,  0.3605]])"
      ]
     },
     "execution_count": 25,
     "metadata": {},
     "output_type": "execute_result"
    }
   ],
   "source": [
    "torch.randn(2, 2, device='cpu')"
   ]
  },
  {
   "cell_type": "code",
   "execution_count": 26,
   "id": "ba9e907e-0b5f-443e-96b3-53bcb0651a20",
   "metadata": {
    "tags": []
   },
   "outputs": [
    {
     "data": {
      "text/plain": [
       "tensor([[-0.5949,  1.2121],\n",
       "        [-0.0271, -0.5514]], device='cuda:0')"
      ]
     },
     "execution_count": 26,
     "metadata": {},
     "output_type": "execute_result"
    }
   ],
   "source": [
    "torch.randn(2, 2, device='cuda')"
   ]
  },
  {
   "cell_type": "code",
   "execution_count": 27,
   "id": "64d2bbd3-fce6-4512-add5-06bf8dccbb43",
   "metadata": {
    "tags": []
   },
   "outputs": [
    {
     "ename": "RuntimeError",
     "evalue": "Expected one of cpu, cuda, xpu, mkldnn, opengl, opencl, ideep, hip, ve, ort, mlc, xla, lazy, vulkan, meta, hpu device type at start of device string: gpu",
     "output_type": "error",
     "traceback": [
      "\u001b[0;31m---------------------------------------------------------------------------\u001b[0m",
      "\u001b[0;31mRuntimeError\u001b[0m                              Traceback (most recent call last)",
      "\u001b[0;32m/tmp/ipykernel_569/2947591043.py\u001b[0m in \u001b[0;36m<module>\u001b[0;34m\u001b[0m\n\u001b[0;32m----> 1\u001b[0;31m \u001b[0mtorch\u001b[0m\u001b[0;34m.\u001b[0m\u001b[0mrandn\u001b[0m\u001b[0;34m(\u001b[0m\u001b[0;36m2\u001b[0m\u001b[0;34m,\u001b[0m \u001b[0;36m2\u001b[0m\u001b[0;34m,\u001b[0m \u001b[0mdevice\u001b[0m\u001b[0;34m=\u001b[0m\u001b[0;34m'gpu'\u001b[0m\u001b[0;34m)\u001b[0m\u001b[0;34m\u001b[0m\u001b[0;34m\u001b[0m\u001b[0m\n\u001b[0m",
      "\u001b[0;31mRuntimeError\u001b[0m: Expected one of cpu, cuda, xpu, mkldnn, opengl, opencl, ideep, hip, ve, ort, mlc, xla, lazy, vulkan, meta, hpu device type at start of device string: gpu"
     ]
    }
   ],
   "source": [
    "torch.randn(2, 2, device='gpu')"
   ]
  },
  {
   "cell_type": "markdown",
   "id": "0d1e6f32-f7dc-42be-a2c0-52d1cf6d4d22",
   "metadata": {},
   "source": [
    "### Basic functions"
   ]
  },
  {
   "cell_type": "code",
   "execution_count": 29,
   "id": "1e115961-b48b-41d6-89ef-5c7df7f0569d",
   "metadata": {
    "tags": []
   },
   "outputs": [
    {
     "data": {
      "text/plain": [
       "tensor([[[ -8.,  -6.],\n",
       "         [ -4.,  -2.]],\n",
       "\n",
       "        [[  0.,   2.],\n",
       "         [  4.,   6.]],\n",
       "\n",
       "        [[  8., -10.],\n",
       "         [ -8.,  -6.]]])"
      ]
     },
     "execution_count": 29,
     "metadata": {},
     "output_type": "execute_result"
    }
   ],
   "source": [
    "(example_tensor - 5) * 2"
   ]
  },
  {
   "cell_type": "code",
   "execution_count": 30,
   "id": "ed6d0c05-49fb-4bcc-a3c1-471e576b06f2",
   "metadata": {
    "tags": []
   },
   "outputs": [
    {
     "name": "stdout",
     "output_type": "stream",
     "text": [
      "Mean: tensor(4.)\n",
      "Stdev: tensor(2.9848)\n"
     ]
    }
   ],
   "source": [
    "print(\"Mean:\", example_tensor.mean())\n",
    "print(\"Stdev:\", example_tensor.std())"
   ]
  },
  {
   "cell_type": "code",
   "execution_count": 32,
   "id": "0182a83f-758f-4c88-bec2-0fb8e2e4494d",
   "metadata": {
    "tags": []
   },
   "outputs": [
    {
     "data": {
      "text/plain": [
       "tensor([[5.0000, 2.6667],\n",
       "        [3.6667, 4.6667]])"
      ]
     },
     "execution_count": 32,
     "metadata": {},
     "output_type": "execute_result"
    }
   ],
   "source": [
    "example_tensor.mean(0)\n",
    "# Equivalently, you could also write:\n",
    "# example_tensor.mean(dim=0)\n",
    "# example_tensor.mean(axis=0)\n",
    "# torch.mean(example_tensor, 0)\n",
    "# torch.mean(example_tensor, dim=0)\n",
    "# torch.mean(example_tensor, axis=0)"
   ]
  },
  {
   "cell_type": "markdown",
   "id": "6d5a3bc7-05e0-4db6-9f6f-3e5ede28f388",
   "metadata": {},
   "source": [
    "### PyTorch Neural Network Module (torch.nn)"
   ]
  },
  {
   "cell_type": "code",
   "execution_count": 1,
   "id": "dbe0f49f-e495-43cf-b21e-6b56e9b96c57",
   "metadata": {
    "tags": []
   },
   "outputs": [],
   "source": [
    "import torch.nn as nn"
   ]
  },
  {
   "cell_type": "markdown",
   "id": "d933f1ec-0b4b-465b-9acf-6af320b4c2e6",
   "metadata": {},
   "source": [
    "#### nn.Linear - to creater a linear layer "
   ]
  },
  {
   "cell_type": "code",
   "execution_count": 2,
   "id": "5e33d83a-dfde-4572-99a1-f6923f3c33b4",
   "metadata": {
    "tags": []
   },
   "outputs": [],
   "source": [
    "linear = nn.Linear(10,2)"
   ]
  },
  {
   "cell_type": "code",
   "execution_count": 9,
   "id": "3fce8fca-6dd2-44d3-9dfa-b9e922fedc8e",
   "metadata": {
    "tags": []
   },
   "outputs": [
    {
     "data": {
      "text/plain": [
       "Linear(in_features=10, out_features=2, bias=True)"
      ]
     },
     "execution_count": 9,
     "metadata": {},
     "output_type": "execute_result"
    }
   ],
   "source": [
    "linear"
   ]
  },
  {
   "cell_type": "code",
   "execution_count": 10,
   "id": "10ba5493-06b1-4c5b-bfd3-fa596cb75cc7",
   "metadata": {
    "tags": []
   },
   "outputs": [
    {
     "data": {
      "text/plain": [
       "Parameter containing:\n",
       "tensor([[-0.2132,  0.1787, -0.1317, -0.0899, -0.0611, -0.0938, -0.2373,  0.0169,\n",
       "         -0.1135, -0.0804],\n",
       "        [-0.2815,  0.1950, -0.2063,  0.0597, -0.0764,  0.0353,  0.2607, -0.2214,\n",
       "          0.2198, -0.2918]], requires_grad=True)"
      ]
     },
     "execution_count": 10,
     "metadata": {},
     "output_type": "execute_result"
    }
   ],
   "source": [
    "linear.weight"
   ]
  },
  {
   "cell_type": "code",
   "execution_count": 11,
   "id": "98559f6d-257e-44b4-85a6-3e18f48f2180",
   "metadata": {
    "tags": []
   },
   "outputs": [
    {
     "data": {
      "text/plain": [
       "Parameter containing:\n",
       "tensor([0.1427, 0.1365], requires_grad=True)"
      ]
     },
     "execution_count": 11,
     "metadata": {},
     "output_type": "execute_result"
    }
   ],
   "source": [
    "linear.bias"
   ]
  },
  {
   "cell_type": "code",
   "execution_count": 5,
   "id": "8db7a8a2-88ad-4e7b-82e6-61c2fe1cb396",
   "metadata": {
    "tags": []
   },
   "outputs": [],
   "source": [
    "example_input = torch.randn(3, 10)"
   ]
  },
  {
   "cell_type": "code",
   "execution_count": 8,
   "id": "9f91d7fd-0b54-4ca5-a769-b29728c43f29",
   "metadata": {
    "tags": []
   },
   "outputs": [
    {
     "data": {
      "text/plain": [
       "tensor([[ 0.3497,  1.0903, -0.2264, -0.4400, -0.0087,  0.8040, -0.1124, -1.0580,\n",
       "         -0.3263,  0.0590],\n",
       "        [-0.3343,  0.6960,  0.7545,  0.6914, -1.1245,  0.1765,  0.5056, -2.1615,\n",
       "         -0.3479,  0.1609],\n",
       "        [ 1.2299, -0.1943,  1.3289,  0.3035, -0.0879,  1.1840, -0.5269, -1.5277,\n",
       "         -1.2012,  1.4393]])"
      ]
     },
     "execution_count": 8,
     "metadata": {},
     "output_type": "execute_result"
    }
   ],
   "source": [
    "example_input"
   ]
  },
  {
   "cell_type": "code",
   "execution_count": 6,
   "id": "4d9afd0d-0d44-4d66-b38a-e1c526cf9616",
   "metadata": {
    "tags": []
   },
   "outputs": [],
   "source": [
    "example_output = linear(example_input)"
   ]
  },
  {
   "cell_type": "code",
   "execution_count": 7,
   "id": "38d7b9aa-f604-41c9-b165-4d082d733f58",
   "metadata": {
    "tags": []
   },
   "outputs": [
    {
     "data": {
      "text/plain": [
       "tensor([[ 0.2986,  0.4162],\n",
       "        [ 0.0989,  0.8311],\n",
       "        [-0.3425, -0.9384]], grad_fn=<AddmmBackward0>)"
      ]
     },
     "execution_count": 7,
     "metadata": {},
     "output_type": "execute_result"
    }
   ],
   "source": [
    "example_output"
   ]
  },
  {
   "cell_type": "markdown",
   "id": "425c5d37-86a6-42a6-8d12-c0f3e124d64a",
   "metadata": {},
   "source": [
    "#### nn.ReLu this will create an object that performs ReLU activation function. "
   ]
  },
  {
   "cell_type": "code",
   "execution_count": 14,
   "id": "a198313c-1e99-4867-a7a6-d2cdf60a3d4c",
   "metadata": {
    "tags": []
   },
   "outputs": [
    {
     "data": {
      "text/plain": [
       "tensor([[0.2986, 0.4162],\n",
       "        [0.0989, 0.8311],\n",
       "        [0.0000, 0.0000]], grad_fn=<ReluBackward0>)"
      ]
     },
     "execution_count": 14,
     "metadata": {},
     "output_type": "execute_result"
    }
   ],
   "source": [
    "relu = nn.ReLU()\n",
    "relu_output = relu(example_output)\n",
    "relu_output"
   ]
  },
  {
   "cell_type": "markdown",
   "id": "d7cebf95-3a9f-43e1-a859-c038d33a866d",
   "metadata": {
    "tags": []
   },
   "source": [
    "#### nn.BatchNorm1d - is a normalization technique that will rescale a batch of n inputs to have a consistent mean and standard deviation between batches"
   ]
  },
  {
   "cell_type": "code",
   "execution_count": 16,
   "id": "20b5bb34-aaad-4947-a274-0a9772d75736",
   "metadata": {
    "tags": []
   },
   "outputs": [
    {
     "data": {
      "text/plain": [
       "tensor([[ 1.3369e+00,  1.2689e-03],\n",
       "        [-2.7027e-01,  1.2241e+00],\n",
       "        [-1.0666e+00, -1.2253e+00]], grad_fn=<NativeBatchNormBackward0>)"
      ]
     },
     "execution_count": 16,
     "metadata": {},
     "output_type": "execute_result"
    }
   ],
   "source": [
    "batchnorm = nn.BatchNorm1d(2)\n",
    "batchnorm_output = batchnorm(relu_output)\n",
    "batchnorm_output"
   ]
  },
  {
   "cell_type": "markdown",
   "id": "b054a0f2-1f47-4666-8a30-72b0947eadcb",
   "metadata": {},
   "source": [
    "#### nn.Sequential - creates a single operatoin that performs a sequence of operations."
   ]
  },
  {
   "cell_type": "code",
   "execution_count": 17,
   "id": "221af703-6cb5-4f58-9c11-ecb850d316aa",
   "metadata": {
    "tags": []
   },
   "outputs": [
    {
     "name": "stdout",
     "output_type": "stream",
     "text": [
      "input :\n",
      "tensor([[1.2515, 1.2051, 1.7812, 1.5395, 1.2380],\n",
      "        [1.0270, 1.0415, 1.9429, 1.1792, 1.1764],\n",
      "        [1.1259, 1.3295, 1.2132, 1.7517, 1.2921],\n",
      "        [1.5549, 1.3822, 1.8185, 1.7272, 1.4210],\n",
      "        [1.9021, 1.8471, 1.1719, 1.8387, 1.5734]])\n",
      "output :\n",
      "tensor([[0.8362, 0.0000],\n",
      "        [0.5868, 0.0000],\n",
      "        [0.0000, 1.8190],\n",
      "        [0.9631, 0.0000],\n",
      "        [0.0000, 0.0876]], grad_fn=<ReluBackward0>)\n"
     ]
    }
   ],
   "source": [
    "mlp_layer = nn.Sequential(\n",
    "    nn.Linear(5,2),\n",
    "    nn.BatchNorm1d(2),\n",
    "    nn.ReLU()\n",
    ")\n",
    "\n",
    "test_example = torch.rand(5,5) + 1\n",
    "print(\"input :\")\n",
    "print(test_example)\n",
    "\n",
    "print(\"output :\")\n",
    "print(mlp_layer(test_example))"
   ]
  },
  {
   "cell_type": "markdown",
   "id": "946e5337-ba11-41b9-a138-a3d6fe033751",
   "metadata": {},
   "source": [
    "#### Optimizers  - to apply automatic differentiation library"
   ]
  },
  {
   "cell_type": "code",
   "execution_count": 19,
   "id": "92377bf6-0246-4479-9d0c-67224b3d5742",
   "metadata": {
    "tags": []
   },
   "outputs": [],
   "source": [
    "import torch.optim as optim\n",
    "adam_opt = optim.Adam(mlp_layer.parameters(), lr=1e-1)"
   ]
  },
  {
   "cell_type": "markdown",
   "id": "182f6983-2cfa-4e3d-a644-87494c269238",
   "metadata": {},
   "source": [
    "#### Training loop \n",
    "##### 1. Set all gradients to zero using opt.zero_grad()\n",
    "##### 2. Calculate loss - loss\n",
    "##### 3. calculate gradients using loss.backward()\n",
    "##### 4. Update the parameters being optimized using opt.step()"
   ]
  },
  {
   "cell_type": "code",
   "execution_count": 25,
   "id": "6ccd0dcb-9162-4ca8-9968-b10de2d3c7c0",
   "metadata": {
    "tags": []
   },
   "outputs": [
    {
     "name": "stdout",
     "output_type": "stream",
     "text": [
      "tensor(0.7685, grad_fn=<MeanBackward0>)\n"
     ]
    }
   ],
   "source": [
    "train_example = torch.randn(100,5) + 1\n",
    "adam_opt.zero_grad()\n",
    "\n",
    "curr_loss = torch.abs(1-mlp_layer(train_example)).mean()\n",
    "\n",
    "curr_loss.backward()\n",
    "adam_opt.step()\n",
    "print(cur_loss)"
   ]
  },
  {
   "cell_type": "markdown",
   "id": "f9ab8025-4f33-43e5-b9fa-90d6a3888d17",
   "metadata": {},
   "source": [
    "#### requires_grad() - to tell pytorch that it needs to calculate grandient w.r.t a tensor - example_tensor.requires_grad_()\n",
    "#### torch_no_grad() - to prevent gradients from being calcuated \n",
    "#### detach - to calculate and use tensor's value without calculating its gradients. "
   ]
  },
  {
   "cell_type": "markdown",
   "id": "da19fd27-ce35-4e69-851c-94e9f5e09ebc",
   "metadata": {},
   "source": [
    "#### nn classes"
   ]
  },
  {
   "cell_type": "code",
   "execution_count": 26,
   "id": "fcc7aaff-2930-441b-8f83-8ca1b08419ce",
   "metadata": {
    "tags": []
   },
   "outputs": [],
   "source": [
    "class ExampleModule(nn.Module):\n",
    "    def __init__(self, input_dims, output_dims):\n",
    "        super(ExampleModule, self).__init__()\n",
    "        self.linear = nn.Linear(input_dims, output_dims)\n",
    "        self.exponent = nn.Parameter(torch.tensor(1.))\n",
    "\n",
    "    def forward(self, x):\n",
    "        x = self.linear(x)\n",
    "\n",
    "        # This is the notation for element-wise exponentiation, \n",
    "        # which matches python in general\n",
    "        x = x ** self.exponent \n",
    "        \n",
    "        return x"
   ]
  },
  {
   "cell_type": "code",
   "execution_count": 27,
   "id": "20a36e0c-3015-48a1-a967-abcb72bb0d3e",
   "metadata": {
    "tags": []
   },
   "outputs": [
    {
     "data": {
      "text/plain": [
       "[Parameter containing:\n",
       " tensor(1., requires_grad=True),\n",
       " Parameter containing:\n",
       " tensor([[-0.3030,  0.0921, -0.1377, -0.1036,  0.1887,  0.1596,  0.0433,  0.2581,\n",
       "           0.3135, -0.2882],\n",
       "         [-0.1493, -0.1197, -0.1676, -0.1245,  0.1598, -0.2525,  0.1622, -0.0803,\n",
       "          -0.2352, -0.0147]], requires_grad=True),\n",
       " Parameter containing:\n",
       " tensor([0.2114, 0.0050], requires_grad=True)]"
      ]
     },
     "execution_count": 27,
     "metadata": {},
     "output_type": "execute_result"
    }
   ],
   "source": [
    "example_model = ExampleModule(10, 2)\n",
    "list(example_model.parameters())"
   ]
  },
  {
   "cell_type": "code",
   "execution_count": 28,
   "id": "638e61d7-1712-45f7-89e4-2cf41eaae8df",
   "metadata": {
    "tags": []
   },
   "outputs": [
    {
     "data": {
      "text/plain": [
       "[('exponent',\n",
       "  Parameter containing:\n",
       "  tensor(1., requires_grad=True)),\n",
       " ('linear.weight',\n",
       "  Parameter containing:\n",
       "  tensor([[-0.3030,  0.0921, -0.1377, -0.1036,  0.1887,  0.1596,  0.0433,  0.2581,\n",
       "            0.3135, -0.2882],\n",
       "          [-0.1493, -0.1197, -0.1676, -0.1245,  0.1598, -0.2525,  0.1622, -0.0803,\n",
       "           -0.2352, -0.0147]], requires_grad=True)),\n",
       " ('linear.bias',\n",
       "  Parameter containing:\n",
       "  tensor([0.2114, 0.0050], requires_grad=True))]"
      ]
     },
     "execution_count": 28,
     "metadata": {},
     "output_type": "execute_result"
    }
   ],
   "source": [
    "list(example_model.named_parameters())"
   ]
  },
  {
   "cell_type": "code",
   "execution_count": 40,
   "id": "9f6d3bca-1c08-41d4-89b0-a1fa047c0f73",
   "metadata": {
    "tags": []
   },
   "outputs": [
    {
     "data": {
      "text/plain": [
       "tensor([[0.3494, 0.7279],\n",
       "        [0.8325, 0.2719]], grad_fn=<PowBackward1>)"
      ]
     },
     "execution_count": 40,
     "metadata": {},
     "output_type": "execute_result"
    }
   ],
   "source": [
    "input = torch.randn(2, 10)\n",
    "example_model(input)"
   ]
  },
  {
   "cell_type": "code",
   "execution_count": null,
   "id": "aaa18313-859b-4f6a-8c98-6bd07ce4f004",
   "metadata": {},
   "outputs": [],
   "source": []
  }
 ],
 "metadata": {
  "kernelspec": {
   "display_name": "Python 3 (ipykernel)",
   "language": "python",
   "name": "python3"
  },
  "language_info": {
   "codemirror_mode": {
    "name": "ipython",
    "version": 3
   },
   "file_extension": ".py",
   "mimetype": "text/x-python",
   "name": "python",
   "nbconvert_exporter": "python",
   "pygments_lexer": "ipython3",
   "version": "3.8.10"
  }
 },
 "nbformat": 4,
 "nbformat_minor": 5
}
