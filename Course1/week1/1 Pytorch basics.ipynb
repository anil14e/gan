{
 "cells": [
  {
   "cell_type": "markdown",
   "id": "80150a15-ad86-4f80-84a6-3eac75770793",
   "metadata": {},
   "source": [
    "## Intro to Pytorch"
   ]
  },
  {
   "cell_type": "code",
   "execution_count": 1,
   "id": "6837361d-503c-4f4b-ac59-8c2b23ee5c25",
   "metadata": {
    "tags": []
   },
   "outputs": [],
   "source": [
    "import torch"
   ]
  },
  {
   "cell_type": "code",
   "execution_count": 2,
   "id": "4368d307-cbf9-4282-8d31-4fcc61f886c7",
   "metadata": {
    "tags": []
   },
   "outputs": [],
   "source": [
    "example_tensor = torch.Tensor(\n",
    "    [\n",
    "     [[1, 2], [3, 4]], \n",
    "     [[5, 6], [7, 8]], \n",
    "     [[9, 0], [1, 2]]\n",
    "    ]\n",
    ")"
   ]
  },
  {
   "cell_type": "markdown",
   "id": "779c6b9b-62a4-42cf-a134-0d1bd41ec615",
   "metadata": {
    "tags": []
   },
   "source": [
    "#### .device gives which device the current exeuction is on. To move a tensor to a new device, you can write new_tensor = example_tensor.to(device) where device will be either cpu or cuda"
   ]
  },
  {
   "cell_type": "code",
   "execution_count": 5,
   "id": "6f074de7-c013-432a-adf4-72151ee48d5b",
   "metadata": {
    "tags": []
   },
   "outputs": [
    {
     "data": {
      "text/plain": [
       "device(type='cpu')"
      ]
     },
     "execution_count": 5,
     "metadata": {},
     "output_type": "execute_result"
    }
   ],
   "source": [
    "example_tensor.device"
   ]
  },
  {
   "cell_type": "code",
   "execution_count": null,
   "id": "7f5f95e4-f03b-4607-87c6-1ad18896920e",
   "metadata": {},
   "outputs": [],
   "source": []
  }
 ],
 "metadata": {
  "kernelspec": {
   "display_name": "Python 3 (ipykernel)",
   "language": "python",
   "name": "python3"
  },
  "language_info": {
   "codemirror_mode": {
    "name": "ipython",
    "version": 3
   },
   "file_extension": ".py",
   "mimetype": "text/x-python",
   "name": "python",
   "nbconvert_exporter": "python",
   "pygments_lexer": "ipython3",
   "version": "3.8.10"
  }
 },
 "nbformat": 4,
 "nbformat_minor": 5
}
